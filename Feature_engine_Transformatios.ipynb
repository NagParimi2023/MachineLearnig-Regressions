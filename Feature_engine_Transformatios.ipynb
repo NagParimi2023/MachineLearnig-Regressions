{
  "nbformat": 4,
  "nbformat_minor": 0,
  "metadata": {
    "colab": {
      "private_outputs": true,
      "provenance": []
    },
    "kernelspec": {
      "name": "python3",
      "display_name": "Python 3"
    },
    "language_info": {
      "name": "python"
    }
  },
  "cells": [
    {
      "cell_type": "code",
      "source": [
        "!pip install feature-engine"
      ],
      "metadata": {
        "id": "0qSp0UDtHwAt"
      },
      "execution_count": null,
      "outputs": []
    },
    {
      "cell_type": "code",
      "execution_count": null,
      "metadata": {
        "id": "jF8wgG56F9vC"
      },
      "outputs": [],
      "source": [
        "from sklearn.model_selection import train_test_split\n",
        "from feature_engine import transformation as vt\n",
        "import numpy as np\n",
        "import pandas as pd\n",
        "import matplotlib.pyplot as plt\n",
        "\n",
        "data = pd.read_csv('train.csv')"
      ]
    },
    {
      "cell_type": "code",
      "source": [
        "data.info()"
      ],
      "metadata": {
        "id": "I-Z_TmDnIqkT"
      },
      "execution_count": null,
      "outputs": []
    },
    {
      "cell_type": "code",
      "source": [
        "X_train,X_test,y_train,y_test=train_test_split(data.drop(['Id','SalePrice'],axis=1),data['SalePrice'],test_size=0.3, random_state=0)"
      ],
      "metadata": {
        "id": "ZgeNGFu8JbFZ"
      },
      "execution_count": null,
      "outputs": []
    },
    {
      "cell_type": "code",
      "source": [
        "tf = vt.LogTransformer(variables=['LotArea','GrLivArea'])"
      ],
      "metadata": {
        "id": "WVSgdrKqJCeW"
      },
      "execution_count": null,
      "outputs": []
    },
    {
      "cell_type": "code",
      "source": [
        "tf.fit(X_train)"
      ],
      "metadata": {
        "id": "2iP3VBLnJLVZ"
      },
      "execution_count": null,
      "outputs": []
    },
    {
      "cell_type": "code",
      "source": [
        "final_transforemed=tf.transform(X_train)"
      ],
      "metadata": {
        "id": "su9fXsYAKqnm"
      },
      "execution_count": null,
      "outputs": []
    },
    {
      "cell_type": "code",
      "source": [],
      "metadata": {
        "id": "aF5VqYCCK7Ps"
      },
      "execution_count": null,
      "outputs": []
    },
    {
      "cell_type": "code",
      "source": [
        "X_train['LotArea'].hist(bins=50)"
      ],
      "metadata": {
        "id": "FaDSkAnGKxrH"
      },
      "execution_count": null,
      "outputs": []
    },
    {
      "cell_type": "code",
      "source": [
        "final_transforemed['LotArea'].hist(bins=50)"
      ],
      "metadata": {
        "id": "L2K2t3YzK8ql"
      },
      "execution_count": null,
      "outputs": []
    }
  ]
}