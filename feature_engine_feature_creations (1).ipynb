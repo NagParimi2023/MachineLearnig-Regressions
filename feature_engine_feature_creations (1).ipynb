{
  "nbformat": 4,
  "nbformat_minor": 0,
  "metadata": {
    "colab": {
      "private_outputs": true,
      "provenance": []
    },
    "kernelspec": {
      "name": "python3",
      "display_name": "Python 3"
    },
    "language_info": {
      "name": "python"
    }
  },
  "cells": [
    {
      "cell_type": "code",
      "source": [
        "!pip install -q feature-engine"
      ],
      "metadata": {
        "id": "xc2cTtb7JBQQ"
      },
      "execution_count": null,
      "outputs": []
    },
    {
      "cell_type": "code",
      "execution_count": null,
      "metadata": {
        "id": "yt5tw-1AIqmp"
      },
      "outputs": [],
      "source": [
        "import numpy as np\n",
        "import pandas as pd\n",
        "from feature_engine.creation import MathFeatures"
      ]
    },
    {
      "cell_type": "code",
      "source": [
        "data =   pd.DataFrame.from_dict(\n",
        "          {\"Name\":[\"Arka\",\"Hima Bindhu\",\"Nagalakshmi\", \"sarkar\",\"Pavan\"],\n",
        "           \"city\":[\"Koltkata\",\"Chennai\",\"Banglore\",\"Delhi\",\"Hyderabad\"],\n",
        "           \"Age\" :[23,21,25,36,57],\n",
        "           \"Salary\":[25000,49000,28000,33000,59000],\n",
        "           \"Experience\":[4,5,6,8,9]}\n",
        ")"
      ],
      "metadata": {
        "id": "M_ftABA3JL4i"
      },
      "execution_count": null,
      "outputs": []
    },
    {
      "cell_type": "code",
      "source": [
        "data"
      ],
      "metadata": {
        "id": "3MJ2KDBPKE1n"
      },
      "execution_count": null,
      "outputs": []
    },
    {
      "cell_type": "code",
      "source": [
        "transform = MathFeatures(variables=[\"Experience\",\"Age\"],\n",
        "                         func=[\"sum\",\"average\",\"min\",\"max\",\"std\",\"prod\"])\n",
        "\n"
      ],
      "metadata": {
        "id": "O4DWYs_MKG1U"
      },
      "execution_count": null,
      "outputs": []
    },
    {
      "cell_type": "code",
      "source": [
        "transform_latest = transform.fit_transform(data)"
      ],
      "metadata": {
        "id": "PVzn47bAKnja"
      },
      "execution_count": null,
      "outputs": []
    },
    {
      "cell_type": "code",
      "source": [
        "transform_latest"
      ],
      "metadata": {
        "id": "OkqHHiO8Kw3H"
      },
      "execution_count": null,
      "outputs": []
    },
    {
      "cell_type": "code",
      "source": [
        "data_relative =   pd.DataFrame.from_dict(\n",
        "          {\"Name\":[\"Arka\",\"Hima Bindhu\",\"Nagalakshmi\", \"sarkar\",\"Pavan\"],\n",
        "           \"city\":[\"Koltkata\",\"Chennai\",\"Banglore\",\"Delhi\",\"Hyderabad\"],\n",
        "           \"Age\" :[23,21,25,36,57],\n",
        "           \"Salary\":[25000,49000,28000,33000,59000],\n",
        "           \"Experience\":[4,5,6,8,9]}\n",
        ")"
      ],
      "metadata": {
        "id": "bCQzDs-UMZpD"
      },
      "execution_count": null,
      "outputs": []
    },
    {
      "cell_type": "code",
      "source": [
        "from feature_engine.creation import RelativeFeatures"
      ],
      "metadata": {
        "id": "A-YGaJSTMgVn"
      },
      "execution_count": null,
      "outputs": []
    },
    {
      "cell_type": "code",
      "source": [
        "transform = RelativeFeatures(variables=[\"Experience\",\"Age\"],\n",
        "                         func=[\"add\",\"sub\",\"div\"],\n",
        "                         reference= [\"Age\"])"
      ],
      "metadata": {
        "id": "0TsJj13JM5Jq"
      },
      "execution_count": null,
      "outputs": []
    },
    {
      "cell_type": "code",
      "source": [
        "transform.fit_transform(data_relative)"
      ],
      "metadata": {
        "id": "LUQ8Cq8ZNbH7"
      },
      "execution_count": null,
      "outputs": []
    },
    {
      "cell_type": "markdown",
      "source": [
        "Date and Time Operations"
      ],
      "metadata": {
        "id": "D39S2PljSpn3"
      }
    },
    {
      "cell_type": "code",
      "source": [
        "data = pd.DataFrame({\"date\": pd.date_range(\"2023-01-4\",periods=20,freq=\"m\")})"
      ],
      "metadata": {
        "id": "us8VEzfERVAG"
      },
      "execution_count": null,
      "outputs": []
    },
    {
      "cell_type": "code",
      "source": [
        "data[\"year\"] = data[\"date\"].dt.year"
      ],
      "metadata": {
        "id": "gpjxl4ITRvR-"
      },
      "execution_count": null,
      "outputs": []
    },
    {
      "cell_type": "code",
      "source": [
        "data['Month'] = data['date'].dt.month"
      ],
      "metadata": {
        "id": "vRL32TcASUSg"
      },
      "execution_count": null,
      "outputs": []
    },
    {
      "cell_type": "code",
      "source": [
        "data['day']  = data['date'].dt.day"
      ],
      "metadata": {
        "id": "G_m2ufQmShij"
      },
      "execution_count": null,
      "outputs": []
    },
    {
      "cell_type": "code",
      "source": [
        "data"
      ],
      "metadata": {
        "id": "8TCJg442SaSe"
      },
      "execution_count": null,
      "outputs": []
    },
    {
      "cell_type": "code",
      "source": [
        "import pandas as pd\n",
        "from feature_engine.datetime import DatetimeFeatures\n",
        "\n",
        "dataset = pd.DataFrame({\n",
        "    \"Key_1\":['May-1989','Dec-2022','Mar-2015','Nov-2011'],\n",
        "    \"Key_2\":['06/21/2011','07/10/1985','10/10/2014','19/01/2000']\n",
        "})\n"
      ],
      "metadata": {
        "id": "lmzAaUOoTd49"
      },
      "execution_count": null,
      "outputs": []
    },
    {
      "cell_type": "code",
      "source": [
        "data_transformed = DatetimeFeatures(variables='Key_2',\n",
        "                                    features_to_extract=[\"month\",\"day_of_month\",\"year\"])"
      ],
      "metadata": {
        "id": "wZua0_mKUaiK"
      },
      "execution_count": null,
      "outputs": []
    },
    {
      "cell_type": "code",
      "source": [
        "final_data = data_transformed.fit_transform(dataset)"
      ],
      "metadata": {
        "id": "UrngMGHwU1kx"
      },
      "execution_count": null,
      "outputs": []
    },
    {
      "cell_type": "code",
      "source": [
        "final_data"
      ],
      "metadata": {
        "id": "Y2g0vheGVHdW"
      },
      "execution_count": null,
      "outputs": []
    },
    {
      "cell_type": "code",
      "source": [
        "data_transformed_1 = DatetimeFeatures(variables='Key_1',\n",
        "                                    features_to_extract=[\"month\",\"year\"])"
      ],
      "metadata": {
        "id": "uA1tS6IIVLja"
      },
      "execution_count": null,
      "outputs": []
    },
    {
      "cell_type": "code",
      "source": [
        "diff = data_transformed_1.fit_transform(dataset)"
      ],
      "metadata": {
        "id": "toakPXqfVQj3"
      },
      "execution_count": null,
      "outputs": []
    },
    {
      "cell_type": "code",
      "source": [
        "diff"
      ],
      "metadata": {
        "id": "cgN0pkDAVYHo"
      },
      "execution_count": null,
      "outputs": []
    },
    {
      "cell_type": "code",
      "source": [
        "from feature_engine.datetime import DatetimeFeatures\n",
        "data_final = pd.DataFrame({\n",
        "    \"var_1\": pd.date_range(\"2018-01-01\",periods=3, freq=\"H\"),\n",
        "    \"var_2\": ['08/31/00 12:14:44','12/01/90 23:04:32','04/25/01 11:59:21']\n",
        "})"
      ],
      "metadata": {
        "id": "sL2nm-UoWAws"
      },
      "execution_count": null,
      "outputs": []
    },
    {
      "cell_type": "code",
      "source": [
        "data_final"
      ],
      "metadata": {
        "id": "sXnHf_5yV8e5"
      },
      "execution_count": null,
      "outputs": []
    },
    {
      "cell_type": "code",
      "source": [
        "dfts =  DatetimeFeatures(variables=[\"var_1\",\"var_2\"],\n",
        "                         features_to_extract=[\"year\",\"hour\"],drop_original=False,format =\"mixed\")"
      ],
      "metadata": {
        "id": "oHkLhG74XNUV"
      },
      "execution_count": null,
      "outputs": []
    },
    {
      "cell_type": "code",
      "source": [
        "dfts.fit_transform(data_final)"
      ],
      "metadata": {
        "id": "ZLwyMq7IXnz3"
      },
      "execution_count": null,
      "outputs": []
    },
    {
      "cell_type": "code",
      "source": [
        "import pandas as pd\n",
        "from feature_engine.datetime import DatetimeFeatures\n",
        "\n",
        "toy_df = pd.DataFrame({\n",
        "    \"var_dt1\": pd.date_range(\"2018-01-01\", periods=3, freq=\"H\"),\n",
        "    \"var_dt2\": ['08/31/00 12:34:45', '12/01/90 23:01:02', '04/25/01 11:59:21'],\n",
        "    \"var_dt3\": ['03/02/15 02:27:26', '02/28/97 10:10:55', '11/11/03 17:30:00'],\n",
        "})"
      ],
      "metadata": {
        "id": "nFkWDUQaZcNb"
      },
      "execution_count": null,
      "outputs": []
    },
    {
      "cell_type": "code",
      "source": [
        "dfts = DatetimeFeatures(\n",
        "    variables=[\"var_dt1\",\"var_dt3\"],\n",
        "    features_to_extract=[\"year\", \"hour\"],\n",
        "    drop_original=False\n",
        ")\n",
        "df_transf = dfts.fit_transform(toy_df)\n",
        "\n",
        "df_transf"
      ],
      "metadata": {
        "id": "tgJ3EO_XZrAQ"
      },
      "execution_count": null,
      "outputs": []
    }
  ]
}