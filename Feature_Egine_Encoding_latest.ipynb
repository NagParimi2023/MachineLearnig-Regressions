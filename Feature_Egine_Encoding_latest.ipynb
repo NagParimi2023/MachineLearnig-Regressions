{
  "nbformat": 4,
  "nbformat_minor": 0,
  "metadata": {
    "colab": {
      "private_outputs": true,
      "provenance": []
    },
    "kernelspec": {
      "name": "python3",
      "display_name": "Python 3"
    },
    "language_info": {
      "name": "python"
    }
  },
  "cells": [
    {
      "cell_type": "code",
      "source": [
        "!pip install feature-engine"
      ],
      "metadata": {
        "id": "evNt4CyOAXt9"
      },
      "execution_count": null,
      "outputs": []
    },
    {
      "cell_type": "code",
      "execution_count": null,
      "metadata": {
        "id": "axJvYMQg_R_9"
      },
      "outputs": [],
      "source": [
        "from sklearn.model_selection import train_test_split\n",
        "from feature_engine.encoding import OneHotEncoder\n",
        "from feature_engine.datasets import load_titanic"
      ]
    },
    {
      "cell_type": "code",
      "source": [
        "X,y = load_titanic(return_X_y_frame =True,\n",
        "                   handle_missing=True,\n",
        "                   predictors_only=True,\n",
        "                   cabin=\"letter_only\"\n",
        "                   )"
      ],
      "metadata": {
        "id": "EMjnw0WKAwrR"
      },
      "execution_count": null,
      "outputs": []
    },
    {
      "cell_type": "code",
      "source": [
        "X_train,X_test, y_train,y_test = train_test_split(X,y, test_size=0.3,random_state=0)"
      ],
      "metadata": {
        "id": "QuhdreKgBVFi"
      },
      "execution_count": null,
      "outputs": []
    },
    {
      "cell_type": "code",
      "source": [
        "X_train.info()"
      ],
      "metadata": {
        "id": "R-TGEX3SCES_"
      },
      "execution_count": null,
      "outputs": []
    },
    {
      "cell_type": "code",
      "source": [
        "encoder = OneHotEncoder(top_categories = None,variables =['cabin','embarked'],\n",
        "                        )\n",
        ""
      ],
      "metadata": {
        "id": "pa3SUA4zBnt0"
      },
      "execution_count": null,
      "outputs": []
    },
    {
      "cell_type": "code",
      "source": [
        "encoder.fit(X_train)"
      ],
      "metadata": {
        "id": "rMz-BU8hCYwX"
      },
      "execution_count": null,
      "outputs": []
    },
    {
      "cell_type": "code",
      "source": [
        "transformed_data = encoder.transform(X_train)"
      ],
      "metadata": {
        "id": "MLN-NaT3Ddop"
      },
      "execution_count": null,
      "outputs": []
    },
    {
      "cell_type": "code",
      "source": [
        "transformed_data.head(1)"
      ],
      "metadata": {
        "id": "1nZF0ETtDk05"
      },
      "execution_count": null,
      "outputs": []
    },
    {
      "cell_type": "markdown",
      "source": [
        "Conclusion : The dataset will increases"
      ],
      "metadata": {
        "id": "ECNIzovVD40M"
      }
    },
    {
      "cell_type": "code",
      "source": [
        "from feature_engine.encoding import CountFrequencyEncoder\n",
        "encoder = CountFrequencyEncoder(\n",
        "          encoding_method='frequency',\n",
        "          variables =['cabin','embarked'],\n",
        ")"
      ],
      "metadata": {
        "id": "Q6BDZvdSDvWA"
      },
      "execution_count": null,
      "outputs": []
    },
    {
      "cell_type": "code",
      "source": [
        "encoder.fit(X_train)"
      ],
      "metadata": {
        "id": "PiHOYQhCEbmm"
      },
      "execution_count": null,
      "outputs": []
    },
    {
      "cell_type": "code",
      "source": [
        "CountFrequencyEncoder_data = encoder.transform(X_train)"
      ],
      "metadata": {
        "id": "fuVWEQ4rEc9k"
      },
      "execution_count": null,
      "outputs": []
    },
    {
      "cell_type": "code",
      "source": [
        "CountFrequencyEncoder_data.head()"
      ],
      "metadata": {
        "id": "YCc5pOXkEifS"
      },
      "execution_count": null,
      "outputs": []
    },
    {
      "cell_type": "code",
      "source": [
        "from feature_engine.encoding import OrdinalEncoder\n",
        "encoding = OrdinalEncoder(encoding_method = 'ordered',\n",
        "                          variables =['cabin','embarked'],ignore_format=True)\n",
        "encoding.fit(X_train,y_train)"
      ],
      "metadata": {
        "id": "ZQQy6jwBEoL5"
      },
      "execution_count": null,
      "outputs": []
    },
    {
      "cell_type": "code",
      "source": [
        "Ordinal_encoding= encoding.transform(X_train)"
      ],
      "metadata": {
        "id": "Qxub8uY2FWnc"
      },
      "execution_count": null,
      "outputs": []
    },
    {
      "cell_type": "code",
      "source": [
        "Ordinal_encoding.head()"
      ],
      "metadata": {
        "id": "lFZweOLjFeSW"
      },
      "execution_count": null,
      "outputs": []
    },
    {
      "cell_type": "code",
      "source": [
        "from feature_engine.encoding import MeanEncoder\n",
        "encoder = MeanEncoder(variables =['cabin','embarked'],ignore_format=True)"
      ],
      "metadata": {
        "id": "R3GwJl4UFl7c"
      },
      "execution_count": null,
      "outputs": []
    },
    {
      "cell_type": "code",
      "source": [
        "encoder.fit(X_test,y_test)"
      ],
      "metadata": {
        "id": "bItkB3AwFwVn"
      },
      "execution_count": null,
      "outputs": []
    },
    {
      "cell_type": "code",
      "source": [
        "Mean_encoder=encoder.transform(X_test)"
      ],
      "metadata": {
        "id": "Esmb7q3sF2vS"
      },
      "execution_count": null,
      "outputs": []
    },
    {
      "cell_type": "code",
      "source": [
        "Mean_encoder.head()"
      ],
      "metadata": {
        "id": "0df8z2QmHI0K"
      },
      "execution_count": null,
      "outputs": []
    },
    {
      "cell_type": "code",
      "source": [
        "from feature_engine.encoding import DecisionTreeEncoder\n",
        "encoder = DecisionTreeEncoder(variables =['cabin','embarked'],\n",
        "                              regression=False,\n",
        "                              scoring='roc_auc',\n",
        "                              cv=3,\n",
        "                              random_state=0)"
      ],
      "metadata": {
        "id": "EovV5p0cF9ho"
      },
      "execution_count": null,
      "outputs": []
    },
    {
      "cell_type": "code",
      "source": [
        "encoder.fit(X_train,y_train)"
      ],
      "metadata": {
        "id": "l6DfYStYGkfz"
      },
      "execution_count": null,
      "outputs": []
    },
    {
      "cell_type": "code",
      "source": [
        "Dtree= encoder.transform(X_test)"
      ],
      "metadata": {
        "id": "lljl_zXXGqNx"
      },
      "execution_count": null,
      "outputs": []
    },
    {
      "cell_type": "code",
      "source": [
        "Dtree.head()"
      ],
      "metadata": {
        "id": "DffOroLCGxKY"
      },
      "execution_count": null,
      "outputs": []
    }
  ]
}