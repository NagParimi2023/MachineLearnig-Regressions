{
  "nbformat": 4,
  "nbformat_minor": 0,
  "metadata": {
    "colab": {
      "private_outputs": true,
      "provenance": []
    },
    "kernelspec": {
      "name": "python3",
      "display_name": "Python 3"
    },
    "language_info": {
      "name": "python"
    }
  },
  "cells": [
    {
      "cell_type": "code",
      "execution_count": null,
      "metadata": {
        "id": "2fwNdT7vw2pE"
      },
      "outputs": [],
      "source": [
        "!pip install feature-engine"
      ]
    },
    {
      "cell_type": "code",
      "source": [
        "import feature_engine\n"
      ],
      "metadata": {
        "id": "65JbRNSXw_8W"
      },
      "execution_count": null,
      "outputs": []
    },
    {
      "cell_type": "code",
      "source": [
        "#import required libraries\n",
        "\n",
        "import numpy as np\n",
        "import pandas as pd\n",
        "from sklearn.model_selection import train_test_split\n",
        "from feature_engine.imputation import MeanMedianImputer"
      ],
      "metadata": {
        "id": "-0Hq3UkoxI9U"
      },
      "execution_count": null,
      "outputs": []
    },
    {
      "cell_type": "markdown",
      "source": [
        "Load the data"
      ],
      "metadata": {
        "id": "c9U6EnAWxwjD"
      }
    },
    {
      "cell_type": "code",
      "source": [
        "data = pd.read_csv('train.csv')"
      ],
      "metadata": {
        "id": "udhEHdL7xlpA"
      },
      "execution_count": null,
      "outputs": []
    },
    {
      "cell_type": "code",
      "source": [
        "data.head()"
      ],
      "metadata": {
        "id": "MvGWFaS7yM_C"
      },
      "execution_count": null,
      "outputs": []
    },
    {
      "cell_type": "code",
      "source": [
        "data[['LotFrontage','MasVnrArea']].isnull().sum()"
      ],
      "metadata": {
        "id": "WP-HmC9Lywq6"
      },
      "execution_count": null,
      "outputs": []
    },
    {
      "cell_type": "code",
      "source": [
        "data.isnull().sum()"
      ],
      "metadata": {
        "id": "w8cdT58v0kT3"
      },
      "execution_count": null,
      "outputs": []
    },
    {
      "cell_type": "code",
      "source": [
        "imputer = MeanMedianImputer(imputation_method='mean',\n",
        "                           variables = ['LotFrontage','MasVnrArea'])"
      ],
      "metadata": {
        "id": "hw-YX20TzIu2"
      },
      "execution_count": null,
      "outputs": []
    },
    {
      "cell_type": "code",
      "source": [
        "imputer.fit(data)"
      ],
      "metadata": {
        "id": "uDkPJO-pzqHb"
      },
      "execution_count": null,
      "outputs": []
    },
    {
      "cell_type": "code",
      "source": [
        "imputer.imputer_dict_"
      ],
      "metadata": {
        "id": "Q1tFQoSwzwOv"
      },
      "execution_count": null,
      "outputs": []
    },
    {
      "cell_type": "code",
      "source": [
        "final_data = imputer.transform(data)"
      ],
      "metadata": {
        "id": "obMxmqF70DLu"
      },
      "execution_count": null,
      "outputs": []
    },
    {
      "cell_type": "code",
      "source": [
        "final_data.isnull().sum()"
      ],
      "metadata": {
        "id": "jNBhM90l0PQF"
      },
      "execution_count": null,
      "outputs": []
    },
    {
      "cell_type": "markdown",
      "source": [
        "Impute Automatically"
      ],
      "metadata": {
        "id": "PgqJ3U2x1KR4"
      }
    },
    {
      "cell_type": "code",
      "source": [
        "x_test = pd.read_csv('test.csv')"
      ],
      "metadata": {
        "id": "AqMgVS3H1qSR"
      },
      "execution_count": null,
      "outputs": []
    },
    {
      "cell_type": "code",
      "source": [
        "imputer = MeanMedianImputer(imputation_method = 'mean')"
      ],
      "metadata": {
        "id": "CiJ5xd5O1AzV"
      },
      "execution_count": null,
      "outputs": []
    },
    {
      "cell_type": "code",
      "source": [
        "imputer.fit(x_test)"
      ],
      "metadata": {
        "id": "L0pv5rKG1fSH"
      },
      "execution_count": null,
      "outputs": []
    },
    {
      "cell_type": "code",
      "source": [
        "imputer.variables_"
      ],
      "metadata": {
        "id": "jO7etMCI12oI"
      },
      "execution_count": null,
      "outputs": []
    },
    {
      "cell_type": "code",
      "source": [
        "imputer.imputer_dict_"
      ],
      "metadata": {
        "id": "S8Bx_g_H1_rh"
      },
      "execution_count": null,
      "outputs": []
    },
    {
      "cell_type": "code",
      "source": [
        "final_data1=  imputer.transform(x_test)"
      ],
      "metadata": {
        "id": "bbr5UDV92OKb"
      },
      "execution_count": null,
      "outputs": []
    },
    {
      "cell_type": "code",
      "source": [
        "final_data1[imputer.variables_].isnull().sum()"
      ],
      "metadata": {
        "id": "nCTBmX6M2U0p"
      },
      "execution_count": null,
      "outputs": []
    },
    {
      "cell_type": "code",
      "source": [
        "data_categorical = pd.read_csv('train.csv')"
      ],
      "metadata": {
        "id": "4UXQAdT74EAB"
      },
      "execution_count": null,
      "outputs": []
    },
    {
      "cell_type": "code",
      "source": [
        "data_categorical[['Alley', 'MasVnrType']].isnull().sum()"
      ],
      "metadata": {
        "id": "wZkkKXjc4Jzn"
      },
      "execution_count": null,
      "outputs": []
    },
    {
      "cell_type": "code",
      "source": [
        "from feature_engine.imputation import CategoricalImputer"
      ],
      "metadata": {
        "id": "C-I7Fy554GdF"
      },
      "execution_count": null,
      "outputs": []
    },
    {
      "cell_type": "code",
      "source": [
        "import matplotlib.pyplot as plt\n",
        "\n",
        "data_categorical['MasVnrType'].value_counts().plot.bar()\n",
        "plt.ylabel('No of obersvation')\n",
        "plt.title('MasVnrType')"
      ],
      "metadata": {
        "id": "WF8xVsow4mKG"
      },
      "execution_count": null,
      "outputs": []
    },
    {
      "cell_type": "code",
      "source": [
        "imputer_cat = CategoricalImputer(imputation_method='missing',\n",
        "                           variables = ['Alley','MasVnrType'])"
      ],
      "metadata": {
        "id": "ENNA5ZMj5OtY"
      },
      "execution_count": null,
      "outputs": []
    },
    {
      "cell_type": "code",
      "source": [
        "imputer_cat.fit(data_categorical)"
      ],
      "metadata": {
        "id": "O__01HUH5i5D"
      },
      "execution_count": null,
      "outputs": []
    },
    {
      "cell_type": "code",
      "source": [
        "imputer_cat.imputer_dict_"
      ],
      "metadata": {
        "id": "5PQZTmUo59dU"
      },
      "execution_count": null,
      "outputs": []
    },
    {
      "cell_type": "code",
      "source": [
        "final_cat = imputer_cat.transform(data_categorical)\n"
      ],
      "metadata": {
        "id": "YLQPtSzt6IgC"
      },
      "execution_count": null,
      "outputs": []
    },
    {
      "cell_type": "code",
      "source": [
        "final_cat.head()"
      ],
      "metadata": {
        "id": "8km7y9VO6ODu"
      },
      "execution_count": null,
      "outputs": []
    },
    {
      "cell_type": "code",
      "source": [
        "imputer_cat_mode = CategoricalImputer(imputation_method='frequent',\n",
        "                           variables = ['Alley','MasVnrType'])"
      ],
      "metadata": {
        "id": "H4lxg8Cc6e3-"
      },
      "execution_count": null,
      "outputs": []
    },
    {
      "cell_type": "code",
      "source": [
        "data_categorical_mode = pd.read_csv('train.csv')"
      ],
      "metadata": {
        "id": "UEsrxuBC6iBc"
      },
      "execution_count": null,
      "outputs": []
    },
    {
      "cell_type": "code",
      "source": [
        "imputer_cat_mode.fit_transform(data_categorical_mode)"
      ],
      "metadata": {
        "id": "5BExnwCe6ngv"
      },
      "execution_count": null,
      "outputs": []
    },
    {
      "cell_type": "markdown",
      "source": [
        "Drop the data based on specific data"
      ],
      "metadata": {
        "id": "338LnndX7JeX"
      }
    },
    {
      "cell_type": "code",
      "source": [
        "from feature_engine.imputation import DropMissingData"
      ],
      "metadata": {
        "id": "-zL4j4aW7IaD"
      },
      "execution_count": null,
      "outputs": []
    },
    {
      "cell_type": "code",
      "source": [
        "data_missing=pd.read_csv('train.csv')"
      ],
      "metadata": {
        "id": "8Tl7nmcd7Z97"
      },
      "execution_count": null,
      "outputs": []
    },
    {
      "cell_type": "code",
      "source": [
        "imputer = DropMissingData(missing_only=False,\n",
        "                           variables = ['Alley','MasVnrType','LotFrontage','MasVnrArea'])"
      ],
      "metadata": {
        "id": "beOZyhD766PM"
      },
      "execution_count": null,
      "outputs": []
    },
    {
      "cell_type": "code",
      "source": [
        "imputer.fit(data_missing)"
      ],
      "metadata": {
        "id": "6ULKTzqP63wd"
      },
      "execution_count": null,
      "outputs": []
    },
    {
      "cell_type": "code",
      "source": [
        "imputer.variables_"
      ],
      "metadata": {
        "id": "302pPIxv8gJk"
      },
      "execution_count": null,
      "outputs": []
    },
    {
      "cell_type": "code",
      "source": [
        "data_missing[imputer.variables_].isnull().sum()"
      ],
      "metadata": {
        "id": "ol-Bj1wB8CBY"
      },
      "execution_count": null,
      "outputs": []
    },
    {
      "cell_type": "code",
      "source": [
        "Cleaned_data = imputer.transform(data_missing)"
      ],
      "metadata": {
        "id": "Upx5DRhb8tMZ"
      },
      "execution_count": null,
      "outputs": []
    },
    {
      "cell_type": "code",
      "source": [
        "Cleaned_data[imputer.variables_].isnull().sum()"
      ],
      "metadata": {
        "id": "zaKGPDwQ87DT"
      },
      "execution_count": null,
      "outputs": []
    },
    {
      "cell_type": "markdown",
      "source": [
        "Select the automatically"
      ],
      "metadata": {
        "id": "_UGmyLKB9XMm"
      }
    },
    {
      "cell_type": "code",
      "source": [
        "imputer = DropMissingData(missing_only=True)\n",
        "imputer.fit(data_missing1)"
      ],
      "metadata": {
        "id": "0AiUKeVY9N3y"
      },
      "execution_count": null,
      "outputs": []
    },
    {
      "cell_type": "code",
      "source": [
        "data_missing1[imputer.variables_].isna().sum()"
      ],
      "metadata": {
        "id": "C-XP1iwj9nYT"
      },
      "execution_count": null,
      "outputs": []
    },
    {
      "cell_type": "code",
      "source": [
        "data_missing1=pd.read_csv('train.csv')"
      ],
      "metadata": {
        "id": "2NgskCBC-Rle"
      },
      "execution_count": null,
      "outputs": []
    },
    {
      "cell_type": "code",
      "source": [
        "final_data2= imputer.transform(data_missing1)"
      ],
      "metadata": {
        "id": "DZhsNQkZ-BSc"
      },
      "execution_count": null,
      "outputs": []
    },
    {
      "cell_type": "code",
      "source": [
        "final_data2[imputer.variables_].isna().sum()"
      ],
      "metadata": {
        "id": "pz5bXryQ-Hqq"
      },
      "execution_count": null,
      "outputs": []
    }
  ]
}